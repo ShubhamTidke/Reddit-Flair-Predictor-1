{
 "cells": [
  {
   "cell_type": "markdown",
   "metadata": {},
   "source": [
    "# Ensemble method: Stacking\n",
    "Stacking is an ensemble learning technique that combines multiple classification or regression models via a meta-classifier or a meta-regressor. The base level models are trained based on a complete training set, then the meta-model is trained on the outputs of the base level model as features."
   ]
  },
  {
   "cell_type": "code",
   "execution_count": 7,
   "metadata": {},
   "outputs": [],
   "source": [
    "import pandas as pd\n",
    "from io import StringIO\n",
    "import numpy as np\n",
    "import pickle \n",
    "import numpy\n",
    "from sklearn.feature_extraction.text import TfidfVectorizer\n",
    "from sklearn.ensemble import RandomForestClassifier\n",
    "from sklearn.model_selection import GridSearchCV\n",
    "from sklearn.model_selection import RandomizedSearchCV\n",
    "from sklearn.model_selection import ShuffleSplit\n",
    "from sklearn.metrics import classification_report, confusion_matrix, accuracy_score, roc_auc_score\n",
    "from sklearn.multiclass import OneVsRestClassifier\n",
    "from xgboost import XGBClassifier\n",
    "import seaborn as sns\n",
    "import matplotlib.pyplot as plt\n",
    "import lightgbm as lgb\n",
    "from sklearn.ensemble import GradientBoostingClassifier\n",
    "from mlxtend.classifier import StackingClassifier\n",
    "from sklearn.linear_model import LogisticRegression"
   ]
  },
  {
   "cell_type": "markdown",
   "metadata": {},
   "source": [
    "Load required files"
   ]
  },
  {
   "cell_type": "code",
   "execution_count": 9,
   "metadata": {},
   "outputs": [],
   "source": [
    "with open('pickles/features_train.pkl', 'rb') as f:\n",
    "    features_train = pickle.load(f)\n",
    "\n",
    "with open('pickles/labels_train.pickle', 'rb') as f:\n",
    "    labels_train = pickle.load(f)\n",
    "\n",
    "with open('pickles/features_test.pkl', 'rb') as f:\n",
    "    features_test = pickle.load(f)\n",
    "\n",
    "with open('pickles/labels_test.pkl', 'rb') as f:\n",
    "    labels_test = pickle.load(f)"
   ]
  },
  {
   "cell_type": "markdown",
   "metadata": {},
   "source": [
    "We create a stack using mlxtend with the base classifiers as XGB, GBM and RFC and with a met classifier Logistic Regression"
   ]
  },
  {
   "cell_type": "code",
   "execution_count": 10,
   "metadata": {},
   "outputs": [],
   "source": [
    "clf1 = XGBClassifier(\n",
    "    base_score=0.5, booster=None, colsample_bylevel=1,\n",
    "    colsample_bynode=1, colsample_bytree=1, gamma=0, gpu_id=-1,\n",
    "    importance_type='gain', interaction_constraints=None,\n",
    "    learning_rate=0.05, max_delta_step=0, max_depth=2,\n",
    "    min_child_weight=1, monotone_constraints=None,\n",
    "    n_estimators=140, n_jobs=4, nthread=4, num_parallel_tree=1,\n",
    "    objective='multi:softprob', random_state=42, reg_alpha=0,\n",
    "    reg_lambda=1, scale_pos_weight=None, seed=42, subsample=1,\n",
    "    tree_method=None, validate_parameters=False, verbosity=None\n",
    ")\n",
    "\n",
    "clf2 = GradientBoostingClassifier(random_state=8)\n",
    "\n",
    "clf3 = RandomForestClassifier(bootstrap=False, ccp_alpha=0.0, class_weight=None,\n",
    "                       criterion='gini', max_depth=70, max_features='sqrt',\n",
    "                       max_leaf_nodes=None, max_samples=None,\n",
    "                       min_impurity_decrease=0.0, min_impurity_split=None,\n",
    "                       min_samples_leaf=3, min_samples_split=10,\n",
    "                       min_weight_fraction_leaf=0.0, n_estimators=1100,\n",
    "                       n_jobs=None, oob_score=False, random_state=8, verbose=0,\n",
    "                       warm_start=False)\n",
    "\n",
    "lr = LogisticRegression()\n",
    "\n",
    "sclf = StackingClassifier(classifiers=[clf1, clf2, clf3], \n",
    "                          meta_classifier=lr)"
   ]
  },
  {
   "cell_type": "code",
   "execution_count": 11,
   "metadata": {},
   "outputs": [
    {
     "name": "stderr",
     "output_type": "stream",
     "text": [
      "/home/kevin/anaconda3/envs/gpu/lib/python3.6/site-packages/sklearn/linear_model/_logistic.py:940: ConvergenceWarning: lbfgs failed to converge (status=1):\n",
      "STOP: TOTAL NO. of ITERATIONS REACHED LIMIT.\n",
      "\n",
      "Increase the number of iterations (max_iter) or scale the data as shown in:\n",
      "    https://scikit-learn.org/stable/modules/preprocessing.html\n",
      "Please also refer to the documentation for alternative solver options:\n",
      "    https://scikit-learn.org/stable/modules/linear_model.html#logistic-regression\n",
      "  extra_warning_msg=_LOGISTIC_SOLVER_CONVERGENCE_MSG)\n"
     ]
    },
    {
     "data": {
      "text/plain": [
       "StackingClassifier(average_probas=False,\n",
       "                   classifiers=[XGBClassifier(base_score=0.5, booster=None,\n",
       "                                              colsample_bylevel=1,\n",
       "                                              colsample_bynode=1,\n",
       "                                              colsample_bytree=1, gamma=0,\n",
       "                                              gpu_id=-1, importance_type='gain',\n",
       "                                              interaction_constraints=None,\n",
       "                                              learning_rate=0.05,\n",
       "                                              max_delta_step=0, max_depth=2,\n",
       "                                              min_child_weight=1, missing=nan,\n",
       "                                              monotone_constraints=None,\n",
       "                                              n_estimators=140, n_job...\n",
       "                   meta_classifier=LogisticRegression(C=1.0, class_weight=None,\n",
       "                                                      dual=False,\n",
       "                                                      fit_intercept=True,\n",
       "                                                      intercept_scaling=1,\n",
       "                                                      l1_ratio=None,\n",
       "                                                      max_iter=100,\n",
       "                                                      multi_class='auto',\n",
       "                                                      n_jobs=None, penalty='l2',\n",
       "                                                      random_state=None,\n",
       "                                                      solver='lbfgs',\n",
       "                                                      tol=0.0001, verbose=0,\n",
       "                                                      warm_start=False),\n",
       "                   store_train_meta_features=False, use_clones=True,\n",
       "                   use_features_in_secondary=False, use_probas=False,\n",
       "                   verbose=0)"
      ]
     },
     "execution_count": 11,
     "metadata": {},
     "output_type": "execute_result"
    }
   ],
   "source": [
    "sclf.fit(features_train, labels_train)"
   ]
  },
  {
   "cell_type": "code",
   "execution_count": 12,
   "metadata": {},
   "outputs": [
    {
     "name": "stdout",
     "output_type": "stream",
     "text": [
      "The training accuracy is: \n",
      "0.8201780415430268\n",
      "The test accuracy is: \n",
      "0.6445497630331753\n",
      "Classification report\n",
      "              precision    recall  f1-score   support\n",
      "\n",
      "           0       0.89      0.76      0.82        41\n",
      "           1       0.50      0.82      0.62        45\n",
      "           2       0.11      0.06      0.08        16\n",
      "           3       0.58      0.81      0.68        32\n",
      "           4       0.78      0.74      0.76        43\n",
      "           5       0.83      0.92      0.87        37\n",
      "           6       0.86      0.71      0.78        45\n",
      "           7       0.57      0.66      0.61        38\n",
      "           8       0.67      0.59      0.63        44\n",
      "           9       0.25      0.03      0.05        38\n",
      "          10       0.51      0.63      0.56        43\n",
      "\n",
      "    accuracy                           0.64       422\n",
      "   macro avg       0.59      0.61      0.59       422\n",
      "weighted avg       0.63      0.64      0.62       422\n",
      "\n"
     ]
    },
    {
     "data": {
      "image/png": "[encoded data removed]",
      "text/plain": [
       "<Figure size 921.6x432 with 2 Axes>"
      ]
     },
     "metadata": {
      "needs_background": "light"
     },
     "output_type": "display_data"
    }
   ],
   "source": [
    "estimator = sclf\n",
    "prediction_2 = estimator.predict(features_test)\n",
    "print(\"The training accuracy is: \")\n",
    "print(accuracy_score(labels_train, estimator.predict(features_train)))\n",
    "print(\"The test accuracy is: \")\n",
    "print(accuracy_score(labels_test, prediction_2))\n",
    "print(\"Classification report\")\n",
    "print(classification_report(labels_test,prediction_2))\n",
    "\n",
    "conf_matrix = confusion_matrix(labels_test, prediction_2)\n",
    "plt.figure(figsize=(12.8,6))\n",
    "sns.heatmap(conf_matrix, \n",
    "            annot=True,\n",
    "            cmap=\"Blues\")\n",
    "plt.ylabel('Predicted')\n",
    "plt.xlabel('Actual')\n",
    "plt.title('Confusion matrix')\n",
    "plt.show()"
   ]
  },
  {
   "cell_type": "markdown",
   "metadata": {},
   "source": [
    "The model does not perform well"
   ]
  },
  {
   "cell_type": "code",
   "execution_count": 13,
   "metadata": {},
   "outputs": [
    {
     "data": {
      "text/plain": [
       "StackingClassifier(average_probas=False,\n",
       "                   classifiers=[XGBClassifier(base_score=0.5, booster=None,\n",
       "                                              colsample_bylevel=1,\n",
       "                                              colsample_bynode=1,\n",
       "                                              colsample_bytree=1, gamma=0,\n",
       "                                              gpu_id=-1, importance_type='gain',\n",
       "                                              interaction_constraints=None,\n",
       "                                              learning_rate=0.05,\n",
       "                                              max_delta_step=0, max_depth=2,\n",
       "                                              min_child_weight=1, missing=nan,\n",
       "                                              monotone_constraints=None,\n",
       "                                              n_estimators=140, n_job...\n",
       "                                                       min_samples_leaf=3,\n",
       "                                                       min_samples_split=10,\n",
       "                                                       min_weight_fraction_leaf=0.0,\n",
       "                                                       n_estimators=1100,\n",
       "                                                       n_jobs=None,\n",
       "                                                       oob_score=False,\n",
       "                                                       random_state=8,\n",
       "                                                       verbose=0,\n",
       "                                                       warm_start=False)],\n",
       "                   drop_last_proba=False,\n",
       "                   meta_classifier=MultinomialNB(alpha=1.0, class_prior=None,\n",
       "                                                 fit_prior=True),\n",
       "                   store_train_meta_features=False, use_clones=True,\n",
       "                   use_features_in_secondary=False, use_probas=False,\n",
       "                   verbose=0)"
      ]
     },
     "execution_count": 13,
     "metadata": {},
     "output_type": "execute_result"
    }
   ],
   "source": [
    "clf1 = XGBClassifier(\n",
    "    base_score=0.5, booster=None, colsample_bylevel=1,\n",
    "    colsample_bynode=1, colsample_bytree=1, gamma=0, gpu_id=-1,\n",
    "    importance_type='gain', interaction_constraints=None,\n",
    "    learning_rate=0.05, max_delta_step=0, max_depth=2,\n",
    "    min_child_weight=1, monotone_constraints=None,\n",
    "    n_estimators=140, n_jobs=4, nthread=4, num_parallel_tree=1,\n",
    "    objective='multi:softprob', random_state=42, reg_alpha=0,\n",
    "    reg_lambda=1, scale_pos_weight=None, seed=42, subsample=1,\n",
    "    tree_method=None, validate_parameters=False, verbosity=None\n",
    ")\n",
    "\n",
    "\n",
    "clf3 = RandomForestClassifier(bootstrap=False, ccp_alpha=0.0, class_weight=None,\n",
    "                       criterion='gini', max_depth=70, max_features='sqrt',\n",
    "                       max_leaf_nodes=None, max_samples=None,\n",
    "                       min_impurity_decrease=0.0, min_impurity_split=None,\n",
    "                       min_samples_leaf=3, min_samples_split=10,\n",
    "                       min_weight_fraction_leaf=0.0, n_estimators=1100,\n",
    "                       n_jobs=None, oob_score=False, random_state=8, verbose=0,\n",
    "                       warm_start=False)\n",
    "from sklearn.naive_bayes import MultinomialNB\n",
    "\n",
    "nb = MultinomialNB()\n",
    "\n",
    "sclf = StackingClassifier(classifiers=[clf1, clf3], \n",
    "                          meta_classifier=nb)\n",
    "\n",
    "sclf.fit(features_train, labels_train)"
   ]
  },
  {
   "cell_type": "code",
   "execution_count": 14,
   "metadata": {},
   "outputs": [
    {
     "name": "stdout",
     "output_type": "stream",
     "text": [
      "The training accuracy is: \n",
      "0.11928783382789318\n",
      "The test accuracy is: \n",
      "0.0924170616113744\n",
      "Classification report\n",
      "              precision    recall  f1-score   support\n",
      "\n",
      "           0       0.10      0.05      0.06        41\n",
      "           1       0.00      0.00      0.00        45\n",
      "           2       0.00      0.00      0.00        16\n",
      "           3       0.08      0.91      0.15        32\n",
      "           4       0.00      0.00      0.00        43\n",
      "           5       0.00      0.00      0.00        37\n",
      "           6       0.00      0.00      0.00        45\n",
      "           7       0.00      0.00      0.00        38\n",
      "           8       0.00      0.00      0.00        44\n",
      "           9       0.00      0.00      0.00        38\n",
      "          10       0.19      0.19      0.19        43\n",
      "\n",
      "    accuracy                           0.09       422\n",
      "   macro avg       0.03      0.10      0.04       422\n",
      "weighted avg       0.03      0.09      0.04       422\n",
      "\n"
     ]
    },
    {
     "name": "stderr",
     "output_type": "stream",
     "text": [
      "/home/kevin/anaconda3/envs/gpu/lib/python3.6/site-packages/sklearn/metrics/_classification.py:1272: UndefinedMetricWarning: Precision and F-score are ill-defined and being set to 0.0 in labels with no predicted samples. Use `zero_division` parameter to control this behavior.\n",
      "  _warn_prf(average, modifier, msg_start, len(result))\n"
     ]
    },
    {
     "data": {
      "image/png": "[encoded data removed]",
      "text/plain": [
       "<Figure size 921.6x432 with 2 Axes>"
      ]
     },
     "metadata": {
      "needs_background": "light"
     },
     "output_type": "display_data"
    }
   ],
   "source": [
    "estimator = sclf\n",
    "prediction_2 = estimator.predict(features_test)\n",
    "print(\"The training accuracy is: \")\n",
    "print(accuracy_score(labels_train, estimator.predict(features_train)))\n",
    "print(\"The test accuracy is: \")\n",
    "print(accuracy_score(labels_test, prediction_2))\n",
    "print(\"Classification report\")\n",
    "print(classification_report(labels_test,prediction_2))\n",
    "\n",
    "conf_matrix = confusion_matrix(labels_test, prediction_2)\n",
    "plt.figure(figsize=(12.8,6))\n",
    "sns.heatmap(conf_matrix, \n",
    "            annot=True,\n",
    "            cmap=\"Blues\")\n",
    "plt.ylabel('Predicted')\n",
    "plt.xlabel('Actual')\n",
    "plt.title('Confusion matrix')\n",
    "plt.show()"
   ]
  },
  {
   "cell_type": "code",
   "execution_count": null,
   "metadata": {},
   "outputs": [],
   "source": []
  }
 ],
 "metadata": {
  "kernelspec": {
   "display_name": "Python 3.6.10 64-bit ('gpu': conda)",
   "language": "python",
   "name": "python361064bitgpucondae32c6e92795749dd8636718cf39723f4"
  },
  "language_info": {
   "codemirror_mode": {
    "name": "ipython",
    "version": 3
   },
   "file_extension": ".py",
   "mimetype": "text/x-python",
   "name": "python",
   "nbconvert_exporter": "python",
   "pygments_lexer": "ipython3",
   "version": "3.6.10"
  }
 },
 "nbformat": 4,
 "nbformat_minor": 2
}

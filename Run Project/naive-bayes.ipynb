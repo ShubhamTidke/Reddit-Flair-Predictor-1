{
 "cells": [
  {
   "cell_type": "markdown",
   "metadata": {},
   "source": [
    "# Naive Bayes classifier"
   ]
  },
  {
   "cell_type": "code",
   "execution_count": 10,
   "metadata": {},
   "outputs": [],
   "source": [
    "import pandas as pd\n",
    "from io import StringIO\n",
    "import numpy as np\n",
    "import pickle \n",
    "import seaborn as sns\n",
    "import matplotlib.pyplot as plt\n",
    "import numpy\n",
    "from sklearn.feature_extraction.text import TfidfVectorizer\n",
    "from sklearn.naive_bayes import MultinomialNB\n",
    "from sklearn.model_selection import GridSearchCV\n",
    "from sklearn.model_selection import RandomizedSearchCV\n",
    "from sklearn.model_selection import ShuffleSplit\n",
    "from sklearn.metrics import classification_report, confusion_matrix, accuracy_score, roc_auc_score"
   ]
  },
  {
   "cell_type": "code",
   "execution_count": 11,
   "metadata": {},
   "outputs": [],
   "source": [
    "with open('pickles/features_train.pkl', 'rb') as f:\n",
    "    features_train = pickle.load(f)\n",
    "\n",
    "with open('pickles/labels_train.pickle', 'rb') as f:\n",
    "    labels_train = pickle.load(f)\n",
    "\n",
    "with open('pickles/features_test.pkl', 'rb') as f:\n",
    "    features_test = pickle.load(f)\n",
    "\n",
    "with open('pickles/labels_test.pkl', 'rb') as f:\n",
    "    labels_test = pickle.load(f)"
   ]
  },
  {
   "cell_type": "code",
   "execution_count": 12,
   "metadata": {},
   "outputs": [
    {
     "name": "stdout",
     "output_type": "stream",
     "text": [
      "<bound method BaseEstimator.get_params of MultinomialNB(alpha=1.0, class_prior=None, fit_prior=True)>\n"
     ]
    }
   ],
   "source": [
    "multi_nb = MultinomialNB()\n",
    "print(multi_nb.get_params)"
   ]
  },
  {
   "cell_type": "code",
   "execution_count": 13,
   "metadata": {},
   "outputs": [],
   "source": [
    "multi_nb.fit(features_train, labels_train)\n",
    "nb_pred = multi_nb.predict(features_test)"
   ]
  },
  {
   "cell_type": "code",
   "execution_count": 14,
   "metadata": {},
   "outputs": [
    {
     "name": "stdout",
     "output_type": "stream",
     "text": [
      "The training accuracy is:\n",
      "0.9103857566765579\n"
     ]
    }
   ],
   "source": [
    "print('The training accuracy is:')\n",
    "print(accuracy_score(multi_nb.predict(features_train), labels_train))"
   ]
  },
  {
   "cell_type": "code",
   "execution_count": 15,
   "metadata": {},
   "outputs": [
    {
     "name": "stdout",
     "output_type": "stream",
     "text": [
      "The testing accuracy is:\n",
      "0.6563981042654028\n"
     ]
    }
   ],
   "source": [
    "print('The testing accuracy is:')\n",
    "print(accuracy_score(nb_pred, labels_test))\n"
   ]
  },
  {
   "cell_type": "code",
   "execution_count": 16,
   "metadata": {},
   "outputs": [
    {
     "name": "stdout",
     "output_type": "stream",
     "text": [
      "classification report\n",
      "              precision    recall  f1-score   support\n",
      "\n",
      "           0       0.66      0.47      0.55        57\n",
      "           1       0.56      0.83      0.67        30\n",
      "           2       0.44      1.00      0.61         7\n",
      "           3       0.75      0.59      0.66        41\n",
      "           4       0.81      0.71      0.76        49\n",
      "           5       0.68      0.76      0.71        33\n",
      "           6       0.80      0.82      0.81        44\n",
      "           7       0.66      0.49      0.56        51\n",
      "           8       0.57      0.68      0.62        37\n",
      "           9       0.50      0.51      0.51        37\n",
      "          10       0.67      0.81      0.73        36\n",
      "\n",
      "    accuracy                           0.66       422\n",
      "   macro avg       0.64      0.70      0.65       422\n",
      "weighted avg       0.67      0.66      0.65       422\n",
      "\n"
     ]
    }
   ],
   "source": [
    "print(\"classification report\")\n",
    "print(classification_report(nb_pred, labels_test))"
   ]
  },
  {
   "cell_type": "code",
   "execution_count": 17,
   "metadata": {},
   "outputs": [
    {
     "data": {
      "image/png": "[encoded data removed]",
      "text/plain": [
       "<Figure size 921.6x432 with 2 Axes>"
      ]
     },
     "metadata": {
      "needs_background": "light"
     },
     "output_type": "display_data"
    }
   ],
   "source": [
    "conf_matrix = confusion_matrix(labels_test, nb_pred)\n",
    "plt.figure(figsize=(12.8,6))\n",
    "sns.heatmap(conf_matrix, \n",
    "            annot=True,\n",
    "            cmap=\"Blues\")\n",
    "plt.ylabel('Predicted')\n",
    "plt.xlabel('Actual')\n",
    "plt.title('Confusion matrix')\n",
    "plt.show()"
   ]
  },
  {
   "cell_type": "markdown",
   "metadata": {},
   "source": [
    "We get a macro F1-score of 0.65"
   ]
  },
  {
   "cell_type": "code",
   "execution_count": null,
   "metadata": {},
   "outputs": [],
   "source": []
  }
 ],
 "metadata": {
  "kernelspec": {
   "display_name": "Python 3.6.10 64-bit ('gpu': conda)",
   "language": "python",
   "name": "python361064bitgpucondae32c6e92795749dd8636718cf39723f4"
  },
  "language_info": {
   "codemirror_mode": {
    "name": "ipython",
    "version": 3
   },
   "file_extension": ".py",
   "mimetype": "text/x-python",
   "name": "python",
   "nbconvert_exporter": "python",
   "pygments_lexer": "ipython3",
   "version": "3.6.10"
  }
 },
 "nbformat": 4,
 "nbformat_minor": 2
}

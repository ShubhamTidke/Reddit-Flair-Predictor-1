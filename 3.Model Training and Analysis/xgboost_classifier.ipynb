{
 "cells": [
  {
   "cell_type": "markdown",
   "metadata": {},
   "source": [
    "# XGBoost classifier"
   ]
  },
  {
   "cell_type": "code",
   "execution_count": 2,
   "metadata": {},
   "outputs": [],
   "source": [
    "import pandas as pd\n",
    "from io import StringIO\n",
    "import numpy as np\n",
    "import pickle \n",
    "import numpy\n",
    "from sklearn.feature_extraction.text import TfidfVectorizer\n",
    "from sklearn.ensemble import RandomForestClassifier\n",
    "from sklearn.model_selection import GridSearchCV\n",
    "from sklearn.model_selection import RandomizedSearchCV\n",
    "from sklearn.model_selection import ShuffleSplit\n",
    "from sklearn.metrics import classification_report, confusion_matrix, accuracy_score, roc_auc_score\n",
    "from sklearn.multiclass import OneVsRestClassifier\n",
    "from xgboost import XGBClassifier\n",
    "import seaborn as sns\n",
    "import matplotlib.pyplot as plt"
   ]
  },
  {
   "cell_type": "markdown",
   "metadata": {},
   "source": [
    "Load necessary files"
   ]
  },
  {
   "cell_type": "code",
   "execution_count": 3,
   "metadata": {},
   "outputs": [],
   "source": [
    "with open('pickles/features_train.pkl', 'rb') as f:\n",
    "    features_train = pickle.load(f)\n",
    "\n",
    "with open('pickles/labels_train.pickle', 'rb') as f:\n",
    "    labels_train = pickle.load(f)\n",
    "\n",
    "with open('pickles/features_test.pkl', 'rb') as f:\n",
    "    features_test = pickle.load(f)\n",
    "\n",
    "with open('pickles/labels_test.pkl', 'rb') as f:\n",
    "    labels_test = pickle.load(f)"
   ]
  },
  {
   "cell_type": "markdown",
   "metadata": {},
   "source": [
    "Define base model"
   ]
  },
  {
   "cell_type": "code",
   "execution_count": 4,
   "metadata": {},
   "outputs": [],
   "source": [
    "estimator = XGBClassifier(\n",
    "    objective = 'multi:softmax',\n",
    "    nthread = -1,\n",
    "    seed = 42\n",
    ")\n",
    "\n",
    "parameters = {\n",
    "    'max_depth' : range (2, 11, 3),\n",
    "    'n_estimators' : range (60, 220, 40), \n",
    "    'learning_rate' : [0.1, 0.01, 0.05]\n",
    "}"
   ]
  },
  {
   "cell_type": "markdown",
   "metadata": {},
   "source": [
    "# GridsearchCV\n",
    "Define the parameter grid for tuning<br>\n",
    "These cells have not been run, model returned from previous running was stored and used due to the large amount of time GridSearchCV takes on Boosting methods"
   ]
  },
  {
   "cell_type": "code",
   "execution_count": null,
   "metadata": {},
   "outputs": [],
   "source": [
    "grid_search = GridSearchCV(\n",
    "    estimator=estimator, \n",
    "    param_grid=parameters, \n",
    "    scoring='accuracy', \n",
    "    n_jobs=-1, \n",
    "    cv=5, \n",
    "    verbose=True\n",
    ")"
   ]
  },
  {
   "cell_type": "code",
   "execution_count": null,
   "metadata": {},
   "outputs": [],
   "source": [
    "grid_search.fit(features_train, labels_train)\n",
    "print(grid_search.best_estimator_)\n",
    "best_xgb = grid_search.best_estimator_\n",
    "    "
   ]
  },
  {
   "cell_type": "code",
   "execution_count": null,
   "metadata": {},
   "outputs": [],
   "source": [
    "best_xgb.fit(features_train, labels_train)"
   ]
  },
  {
   "cell_type": "code",
   "execution_count": null,
   "metadata": {},
   "outputs": [],
   "source": [
    "print(\"The training accuracy is: \")\n",
    "print(accuracy_score(labels_train, best_xgb.predict(features_train)))\n"
   ]
  },
  {
   "cell_type": "code",
   "execution_count": null,
   "metadata": {},
   "outputs": [],
   "source": [
    "print(\"The test accuracy is: \")\n",
    "print(accuracy_score(labels_test, xgb_pred))"
   ]
  },
  {
   "cell_type": "code",
   "execution_count": null,
   "metadata": {},
   "outputs": [],
   "source": [
    "print(\"Classification report\")\n",
    "print(classification_report(labels_test,xgb_pred))\n"
   ]
  },
  {
   "cell_type": "code",
   "execution_count": null,
   "metadata": {},
   "outputs": [],
   "source": [
    "with open('pickles/best_xgb.pkl', 'wb') as f:\n",
    "    pickle.dump(best_xgb, f)\n"
   ]
  },
  {
   "cell_type": "code",
   "execution_count": null,
   "metadata": {},
   "outputs": [],
   "source": [
    "with open('pickles/best_xgb.pkl', 'rb') as f:\n",
    "    predictor = pickle.load(f)\n",
    "\n",
    "print(predictor.get_xgb_params)\n"
   ]
  },
  {
   "cell_type": "markdown",
   "metadata": {},
   "source": [
    "Best model obtained after GridSearchCV"
   ]
  },
  {
   "cell_type": "code",
   "execution_count": 4,
   "metadata": {},
   "outputs": [],
   "source": [
    "estimator = XGBClassifier(\n",
    "    base_score=0.5, booster=None, colsample_bylevel=1,\n",
    "    colsample_bynode=1, colsample_bytree=1, gamma=0, gpu_id=-1,\n",
    "    importance_type='gain', interaction_constraints=None,\n",
    "    learning_rate=0.05, max_delta_step=0, max_depth=2,\n",
    "    min_child_weight=1, monotone_constraints=None,\n",
    "    n_estimators=140, n_jobs=4, nthread=4, num_parallel_tree=1,\n",
    "    objective='multi:softprob', random_state=42, reg_alpha=0,\n",
    "    reg_lambda=1, scale_pos_weight=None, seed=42, subsample=1,\n",
    "    tree_method=None, validate_parameters=False, verbosity=None\n",
    ")\n"
   ]
  },
  {
   "cell_type": "markdown",
   "metadata": {},
   "source": [
    "Fit the model"
   ]
  },
  {
   "cell_type": "code",
   "execution_count": null,
   "metadata": {},
   "outputs": [],
   "source": [
    "estimator.fit(features_train, labels_train)\n"
   ]
  },
  {
   "cell_type": "markdown",
   "metadata": {},
   "source": [
    "# Analyse the model"
   ]
  },
  {
   "cell_type": "code",
   "execution_count": 6,
   "metadata": {},
   "outputs": [
    {
     "name": "stdout",
     "output_type": "stream",
     "text": [
      "The training accuracy is: \n",
      "0.8474777448071217\n",
      "The test accuracy is: \n",
      "0.7440758293838863\n",
      "Classification report\n",
      "              precision    recall  f1-score   support\n",
      "\n",
      "           0       0.86      0.76      0.81        41\n",
      "           1       0.49      0.87      0.63        45\n",
      "           2       0.86      0.75      0.80        16\n",
      "           3       0.82      0.84      0.83        32\n",
      "           4       0.83      0.81      0.82        43\n",
      "           5       0.95      0.95      0.95        37\n",
      "           6       0.88      0.80      0.84        45\n",
      "           7       0.64      0.71      0.67        38\n",
      "           8       0.72      0.59      0.65        44\n",
      "           9       0.63      0.50      0.56        38\n",
      "          10       0.84      0.63      0.72        43\n",
      "\n",
      "    accuracy                           0.74       422\n",
      "   macro avg       0.78      0.75      0.75       422\n",
      "weighted avg       0.77      0.74      0.75       422\n",
      "\n"
     ]
    },
    {
     "data": {
      "image/png": "[encoded data removed]",
      "text/plain": [
       "<Figure size 921.6x432 with 2 Axes>"
      ]
     },
     "metadata": {
      "needs_background": "light"
     },
     "output_type": "display_data"
    }
   ],
   "source": [
    "prediction_2 = estimator.predict(features_test)\n",
    "print(\"The training accuracy is: \")\n",
    "print(accuracy_score(labels_train, estimator.predict(features_train)))\n",
    "print(\"The test accuracy is: \")\n",
    "print(accuracy_score(labels_test, prediction_2))\n",
    "print(\"Classification report\")\n",
    "print(classification_report(labels_test,prediction_2))\n",
    "\n",
    "conf_matrix = confusion_matrix(labels_test, prediction_2)\n",
    "plt.figure(figsize=(12.8,6))\n",
    "sns.heatmap(conf_matrix, \n",
    "            annot=True,\n",
    "            cmap=\"Blues\")\n",
    "plt.ylabel('Predicted')\n",
    "plt.xlabel('Actual')\n",
    "plt.title('Confusion matrix')\n",
    "plt.show()"
   ]
  },
  {
   "cell_type": "markdown",
   "metadata": {},
   "source": [
    "We look at macro average of the F1 score because of the absence of class imbalance<br>\n",
    "We have a macro F1 score of 75%"
   ]
  },
  {
   "cell_type": "markdown",
   "metadata": {},
   "source": [
    "Saving the model"
   ]
  },
  {
   "cell_type": "code",
   "execution_count": 7,
   "metadata": {},
   "outputs": [],
   "source": [
    "with open('pickles/best_xgb_nourl.pkl', 'wb') as f:\n",
    "    pickle.dump(estimator, f)\n",
    "\n"
   ]
  },
  {
   "cell_type": "code",
   "execution_count": null,
   "metadata": {},
   "outputs": [],
   "source": []
  },
  {
   "cell_type": "code",
   "execution_count": null,
   "metadata": {},
   "outputs": [],
   "source": []
  }
 ],
 "metadata": {
  "kernelspec": {
   "display_name": "Python 3.6.10 64-bit ('gpu': conda)",
   "language": "python",
   "name": "python361064bitgpucondae32c6e92795749dd8636718cf39723f4"
  },
  "language_info": {
   "codemirror_mode": {
    "name": "ipython",
    "version": 3
   },
   "file_extension": ".py",
   "mimetype": "text/x-python",
   "name": "python",
   "nbconvert_exporter": "python",
   "pygments_lexer": "ipython3",
   "version": "3.6.10"
  }
 },
 "nbformat": 4,
 "nbformat_minor": 2
}
